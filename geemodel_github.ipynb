{
 "cells": [
  {
   "cell_type": "code",
   "execution_count": 1,
   "id": "c0d4fb31",
   "metadata": {},
   "outputs": [],
   "source": [
    "import pandas as pd\n",
    "import numpy as np\n",
    "import matplotlib.pyplot as plt\n",
    "import ee \n",
    "import geemap\n",
    "import time \n",
    "from dateutil import parser\n",
    "from dateutil.relativedelta import relativedelta"
   ]
  },
  {
   "cell_type": "markdown",
   "id": "05d1532f",
   "metadata": {},
   "source": [
    "# Google Earth Login"
   ]
  },
  {
   "cell_type": "code",
   "execution_count": 3,
   "id": "55de8ab0",
   "metadata": {},
   "outputs": [
    {
     "data": {
      "text/html": [
       "<p>To authorize access needed by Earth Engine, open the following\n",
       "        URL in a web browser and follow the instructions:</p>\n",
       "        <p><a href=https://code.earthengine.google.com/client-auth?scopes=https%3A//www.googleapis.com/auth/earthengine%20https%3A//www.googleapis.com/auth/devstorage.full_control&request_id=0bCUj-rO1SHdg7z1SYqf03W_vztgp59NZkMadaIp_kk&tc=25Sp_ltVOKkVlrMWqtEUNxDc3WjuQRzQKKrCyJBU4BM&cc=OGflpbtQjo1ESHQRaia4Auz5DPjhlXXs48H-iPSlKsk>https://code.earthengine.google.com/client-auth?scopes=https%3A//www.googleapis.com/auth/earthengine%20https%3A//www.googleapis.com/auth/devstorage.full_control&request_id=0bCUj-rO1SHdg7z1SYqf03W_vztgp59NZkMadaIp_kk&tc=25Sp_ltVOKkVlrMWqtEUNxDc3WjuQRzQKKrCyJBU4BM&cc=OGflpbtQjo1ESHQRaia4Auz5DPjhlXXs48H-iPSlKsk</a></p>\n",
       "        <p>The authorization workflow will generate a code, which you should paste in the box below.</p>\n",
       "        "
      ],
      "text/plain": [
       "<IPython.core.display.HTML object>"
      ]
     },
     "metadata": {},
     "output_type": "display_data"
    },
    {
     "name": "stdin",
     "output_type": "stream",
     "text": [
      "Enter verification code:  4/1AWtgzh67WN88jcJF0I5PYAOy-OdU1lk6Gmn2eN3OQKX6BiiJ7_3WzHW0Qpo\n"
     ]
    },
    {
     "name": "stdout",
     "output_type": "stream",
     "text": [
      "\n",
      "Successfully saved authorization token.\n"
     ]
    },
    {
     "ename": "EEException",
     "evalue": "Not signed up for Earth Engine or project is not registered. For help, visit https://developers.google.com/earth-engine/cloud/earthengine_cloud_project_setup",
     "output_type": "error",
     "traceback": [
      "\u001b[1;31m---------------------------------------------------------------------------\u001b[0m",
      "\u001b[1;31mHttpError\u001b[0m                                 Traceback (most recent call last)",
      "File \u001b[1;32m~\\miniconda3\\lib\\site-packages\\ee\\data.py:326\u001b[0m, in \u001b[0;36m_execute_cloud_call\u001b[1;34m(call, num_retries)\u001b[0m\n\u001b[0;32m    325\u001b[0m \u001b[38;5;28;01mtry\u001b[39;00m:\n\u001b[1;32m--> 326\u001b[0m   \u001b[38;5;28;01mreturn\u001b[39;00m \u001b[43mcall\u001b[49m\u001b[38;5;241;43m.\u001b[39;49m\u001b[43mexecute\u001b[49m\u001b[43m(\u001b[49m\u001b[43mnum_retries\u001b[49m\u001b[38;5;241;43m=\u001b[39;49m\u001b[43mnum_retries\u001b[49m\u001b[43m)\u001b[49m\n\u001b[0;32m    327\u001b[0m \u001b[38;5;28;01mexcept\u001b[39;00m googleapiclient\u001b[38;5;241m.\u001b[39merrors\u001b[38;5;241m.\u001b[39mHttpError \u001b[38;5;28;01mas\u001b[39;00m e:\n",
      "File \u001b[1;32m~\\miniconda3\\lib\\site-packages\\googleapiclient\\_helpers.py:130\u001b[0m, in \u001b[0;36mpositional.<locals>.positional_decorator.<locals>.positional_wrapper\u001b[1;34m(*args, **kwargs)\u001b[0m\n\u001b[0;32m    129\u001b[0m         logger\u001b[38;5;241m.\u001b[39mwarning(message)\n\u001b[1;32m--> 130\u001b[0m \u001b[38;5;28;01mreturn\u001b[39;00m wrapped(\u001b[38;5;241m*\u001b[39margs, \u001b[38;5;241m*\u001b[39m\u001b[38;5;241m*\u001b[39mkwargs)\n",
      "File \u001b[1;32m~\\miniconda3\\lib\\site-packages\\googleapiclient\\http.py:938\u001b[0m, in \u001b[0;36mHttpRequest.execute\u001b[1;34m(self, http, num_retries)\u001b[0m\n\u001b[0;32m    937\u001b[0m \u001b[38;5;28;01mif\u001b[39;00m resp\u001b[38;5;241m.\u001b[39mstatus \u001b[38;5;241m>\u001b[39m\u001b[38;5;241m=\u001b[39m \u001b[38;5;241m300\u001b[39m:\n\u001b[1;32m--> 938\u001b[0m     \u001b[38;5;28;01mraise\u001b[39;00m HttpError(resp, content, uri\u001b[38;5;241m=\u001b[39m\u001b[38;5;28mself\u001b[39m\u001b[38;5;241m.\u001b[39muri)\n\u001b[0;32m    939\u001b[0m \u001b[38;5;28;01mreturn\u001b[39;00m \u001b[38;5;28mself\u001b[39m\u001b[38;5;241m.\u001b[39mpostproc(resp, content)\n",
      "\u001b[1;31mHttpError\u001b[0m: <HttpError 403 when requesting https://earthengine.googleapis.com/v1alpha/projects/earthengine-legacy/algorithms?prettyPrint=false&alt=json returned \"Not signed up for Earth Engine or project is not registered. For help, visit https://developers.google.com/earth-engine/cloud/earthengine_cloud_project_setup\". Details: \"Not signed up for Earth Engine or project is not registered. For help, visit https://developers.google.com/earth-engine/cloud/earthengine_cloud_project_setup\">",
      "\nDuring handling of the above exception, another exception occurred:\n",
      "\u001b[1;31mEEException\u001b[0m                               Traceback (most recent call last)",
      "Cell \u001b[1;32mIn[3], line 5\u001b[0m\n\u001b[0;32m      2\u001b[0m ee\u001b[38;5;241m.\u001b[39mAuthenticate()\n\u001b[0;32m      4\u001b[0m \u001b[38;5;66;03m# Initialize the library.\u001b[39;00m\n\u001b[1;32m----> 5\u001b[0m \u001b[43mee\u001b[49m\u001b[38;5;241;43m.\u001b[39;49m\u001b[43mInitialize\u001b[49m\u001b[43m(\u001b[49m\u001b[43m)\u001b[49m\n",
      "File \u001b[1;32m~\\miniconda3\\lib\\site-packages\\ee\\__init__.py:140\u001b[0m, in \u001b[0;36mInitialize\u001b[1;34m(credentials, opt_url, cloud_api_key, http_transport, project)\u001b[0m\n\u001b[0;32m    131\u001b[0m data\u001b[38;5;241m.\u001b[39minitialize(\n\u001b[0;32m    132\u001b[0m     credentials\u001b[38;5;241m=\u001b[39mcredentials,\n\u001b[0;32m    133\u001b[0m     api_base_url\u001b[38;5;241m=\u001b[39m(opt_url \u001b[38;5;241m+\u001b[39m \u001b[38;5;124m'\u001b[39m\u001b[38;5;124m/api\u001b[39m\u001b[38;5;124m'\u001b[39m \u001b[38;5;28;01mif\u001b[39;00m opt_url \u001b[38;5;28;01melse\u001b[39;00m \u001b[38;5;28;01mNone\u001b[39;00m),\n\u001b[1;32m   (...)\u001b[0m\n\u001b[0;32m    137\u001b[0m     project\u001b[38;5;241m=\u001b[39mproject,\n\u001b[0;32m    138\u001b[0m     http_transport\u001b[38;5;241m=\u001b[39mhttp_transport)\n\u001b[0;32m    139\u001b[0m \u001b[38;5;66;03m# Initialize the dynamically loaded functions on the objects that want them.\u001b[39;00m\n\u001b[1;32m--> 140\u001b[0m \u001b[43mApiFunction\u001b[49m\u001b[38;5;241;43m.\u001b[39;49m\u001b[43minitialize\u001b[49m\u001b[43m(\u001b[49m\u001b[43m)\u001b[49m\n\u001b[0;32m    141\u001b[0m Element\u001b[38;5;241m.\u001b[39minitialize()\n\u001b[0;32m    142\u001b[0m Image\u001b[38;5;241m.\u001b[39minitialize()\n",
      "File \u001b[1;32m~\\miniconda3\\lib\\site-packages\\ee\\apifunction.py:154\u001b[0m, in \u001b[0;36mApiFunction.initialize\u001b[1;34m(cls)\u001b[0m\n\u001b[0;32m    152\u001b[0m \u001b[38;5;250m\u001b[39m\u001b[38;5;124;03m\"\"\"Initializes the list of signatures from the Earth Engine front-end.\"\"\"\u001b[39;00m\n\u001b[0;32m    153\u001b[0m \u001b[38;5;28;01mif\u001b[39;00m \u001b[38;5;129;01mnot\u001b[39;00m \u001b[38;5;28mcls\u001b[39m\u001b[38;5;241m.\u001b[39m_api:\n\u001b[1;32m--> 154\u001b[0m   signatures \u001b[38;5;241m=\u001b[39m \u001b[43mdata\u001b[49m\u001b[38;5;241;43m.\u001b[39;49m\u001b[43mgetAlgorithms\u001b[49m\u001b[43m(\u001b[49m\u001b[43m)\u001b[49m\n\u001b[0;32m    155\u001b[0m   api \u001b[38;5;241m=\u001b[39m {}\n\u001b[0;32m    156\u001b[0m   \u001b[38;5;28;01mfor\u001b[39;00m name, sig \u001b[38;5;129;01min\u001b[39;00m signatures\u001b[38;5;241m.\u001b[39mitems():\n\u001b[0;32m    157\u001b[0m     \u001b[38;5;66;03m# Strip type parameters.\u001b[39;00m\n",
      "File \u001b[1;32m~\\miniconda3\\lib\\site-packages\\ee\\data.py:1128\u001b[0m, in \u001b[0;36mgetAlgorithms\u001b[1;34m()\u001b[0m\n\u001b[0;32m   1123\u001b[0m     \u001b[38;5;28mprint\u001b[39m(\n\u001b[0;32m   1124\u001b[0m         \u001b[38;5;124m'\u001b[39m\u001b[38;5;124m*** Earth Engine ***\u001b[39m\u001b[38;5;124m'\u001b[39m,\n\u001b[0;32m   1125\u001b[0m         response[_INIT_MESSAGE_HEADER],\n\u001b[0;32m   1126\u001b[0m         file\u001b[38;5;241m=\u001b[39msys\u001b[38;5;241m.\u001b[39mstderr)\n\u001b[0;32m   1127\u001b[0m call\u001b[38;5;241m.\u001b[39madd_response_callback(inspect)\n\u001b[1;32m-> 1128\u001b[0m \u001b[38;5;28;01mreturn\u001b[39;00m _cloud_api_utils\u001b[38;5;241m.\u001b[39mconvert_algorithms(\u001b[43m_execute_cloud_call\u001b[49m\u001b[43m(\u001b[49m\u001b[43mcall\u001b[49m\u001b[43m)\u001b[49m)\n",
      "File \u001b[1;32m~\\miniconda3\\lib\\site-packages\\ee\\data.py:328\u001b[0m, in \u001b[0;36m_execute_cloud_call\u001b[1;34m(call, num_retries)\u001b[0m\n\u001b[0;32m    326\u001b[0m   \u001b[38;5;28;01mreturn\u001b[39;00m call\u001b[38;5;241m.\u001b[39mexecute(num_retries\u001b[38;5;241m=\u001b[39mnum_retries)\n\u001b[0;32m    327\u001b[0m \u001b[38;5;28;01mexcept\u001b[39;00m googleapiclient\u001b[38;5;241m.\u001b[39merrors\u001b[38;5;241m.\u001b[39mHttpError \u001b[38;5;28;01mas\u001b[39;00m e:\n\u001b[1;32m--> 328\u001b[0m   \u001b[38;5;28;01mraise\u001b[39;00m _translate_cloud_exception(e)\n",
      "\u001b[1;31mEEException\u001b[0m: Not signed up for Earth Engine or project is not registered. For help, visit https://developers.google.com/earth-engine/cloud/earthengine_cloud_project_setup"
     ]
    }
   ],
   "source": [
    "# Trigger the authentication flow.\n",
    "ee.Authenticate()\n",
    "\n",
    "# Initialize the library.\n",
    "ee.Initialize()"
   ]
  },
  {
   "cell_type": "markdown",
   "id": "97220a11",
   "metadata": {},
   "source": [
    "## Selecting Location"
   ]
  },
  {
   "cell_type": "code",
   "execution_count": null,
   "id": "7f5483c8",
   "metadata": {},
   "outputs": [],
   "source": [
    "## Loading in the feature collection that contains the shapefile for the country boundaries\n",
    "Boundaries = ee.FeatureCollection('FAO/GAUL/2015/level2')"
   ]
  },
  {
   "cell_type": "code",
   "execution_count": null,
   "id": "6c84aaa4",
   "metadata": {},
   "outputs": [],
   "source": [
    "## Commands to generate an interactive map\n",
    "GEE_Map = geemap.Map()\n",
    "\n",
    "## Adds google Earth view\n",
    "GEE_Map.add_basemap(\"SATELLITE\")\n",
    "\n",
    "## Adds a shapefile layer that allows the selecting of areas\n",
    "GEE_Map.addLayer(Boundaries,{},'Worldmap')\n",
    "\n",
    "## Selecting the region of interest\n",
    "poi = Boundaries.filter(ee.Filter.eq('ADM2_NAME', 'Creuse'))\n",
    "\n",
    "## Commands to add the selected region to the generated map\n",
    "GEE_Map.addLayer(poi, {}, 'Selected Region')\n",
    "\n",
    "## Command that plots the map\n",
    "GEE_Map"
   ]
  },
  {
   "cell_type": "markdown",
   "id": "b8ccead1",
   "metadata": {
    "tags": []
   },
   "source": [
    "## Retrieving Data from FEWS"
   ]
  },
  {
   "cell_type": "code",
   "execution_count": null,
   "id": "a3424263",
   "metadata": {
    "tags": []
   },
   "outputs": [],
   "source": [
    "#Enter selection period in the following format YYYY-MM-DD\n",
    "date_start = '1982-01-01' \n",
    "date_end = '2020-01-01'\n",
    "\n",
    "## Selecting the satellite collection we want to have , accompanied by selecting a time period\n",
    "FEWS = ee.ImageCollection(\"NASA/FLDAS/NOAH01/C/GL/M/V001\").filterDate(date_start,date_end)"
   ]
  },
  {
   "cell_type": "code",
   "execution_count": null,
   "id": "49c727a3-f8fd-4950-8bee-c6855025877a",
   "metadata": {},
   "outputs": [],
   "source": [
    "date_start = parser.parse(date_start)\n",
    "date_end = parser.parse(date_end)"
   ]
  },
  {
   "cell_type": "code",
   "execution_count": null,
   "id": "7bb8875a-04f6-4206-9a46-c021d3c8ac23",
   "metadata": {},
   "outputs": [],
   "source": [
    "difference_in_years = relativedelta(date_end, date_start).years\n",
    "periods = difference_in_years * 12"
   ]
  },
  {
   "cell_type": "code",
   "execution_count": null,
   "id": "d9076f2c",
   "metadata": {},
   "outputs": [],
   "source": [
    "## Selecting the bands we want to have from the specific satellite\n",
    "bands_FEWS = ['Evap_tavg','Qg_tavg','RadT_tavg','SoilMoi00_10cm_tavg','SoilMoi100_200cm_tavg','SoilTemp00_10cm_tavg','SoilTemp100_200cm_tavg','Tair_f_tavg','Wind_f_tavg','Rainf_f_tavg']"
   ]
  },
  {
   "cell_type": "code",
   "execution_count": null,
   "id": "e262788f",
   "metadata": {},
   "outputs": [],
   "source": [
    "## Timer function \n",
    "start = time.time()\n",
    "\n",
    "##\n",
    "def poi_mean(img,band_name):\n",
    "    mean = img.reduceRegion(reducer=ee.Reducer.mean(), geometry=poi, scale=463).get(band_name)\n",
    "    return img.set('date', img.date().format()).set('mean',mean)"
   ]
  },
  {
   "cell_type": "code",
   "execution_count": null,
   "id": "62a7e268",
   "metadata": {
    "tags": []
   },
   "outputs": [],
   "source": [
    "## Creating a reduced image that contains the mean by loading in into the function \n",
    "results = []\n",
    "\n",
    "for band_name in bands_FEWS:\n",
    "    poi_reduced_imgs = FEWS.map(lambda x: poi_mean(x, band_name))\n",
    "    results.append(poi_reduced_imgs)    "
   ]
  },
  {
   "cell_type": "code",
   "execution_count": null,
   "id": "cfc33f47",
   "metadata": {},
   "outputs": [],
   "source": [
    "parsed_dfs = []\n",
    "\n",
    "for result in results:\n",
    "    nested_list = result.reduceColumns(ee.Reducer.toList(2), ['date','mean']).values().get(0)\n",
    "    df = pd.DataFrame(nested_list.getInfo(), columns=['date','mean'])\n",
    "    parsed_dfs.append(df)"
   ]
  },
  {
   "cell_type": "code",
   "execution_count": null,
   "id": "8cae77c4",
   "metadata": {},
   "outputs": [],
   "source": [
    "%%capture out\n",
    "df_fews = pd.concat(parsed_dfs,axis=1)\n",
    "df_fews.columns = range(df_fews.shape[1])\n",
    "df_fews.T.reset_index(drop=True).T"
   ]
  },
  {
   "cell_type": "code",
   "execution_count": null,
   "id": "0f9f44cd",
   "metadata": {},
   "outputs": [],
   "source": [
    "## Setting the correct column names corresponding with the selected satellite bands\n",
    "i = 0\n",
    "for column_names in df_fews:\n",
    "    if column_names %2 == 1:\n",
    "        df_fews.rename(columns={column_names : bands_FEWS[i]},inplace=True)\n",
    "        i = i + 1 \n",
    "    elif column_names %2 == 0:\n",
    "        df_fews.drop(labels=column_names, axis=1,inplace=True)"
   ]
  },
  {
   "cell_type": "code",
   "execution_count": null,
   "id": "118740ea",
   "metadata": {},
   "outputs": [],
   "source": [
    "## Creating a dataframe of the FEWS satellite, with a monthly time period\n",
    "df_fews['date'] = pd.Series(pd.date_range(date_start, periods=periods, freq=\"M\"))\n",
    "df_fews.set_index(('date') ,inplace=True)"
   ]
  },
  {
   "cell_type": "code",
   "execution_count": null,
   "id": "90c08742-ffd3-44a4-8705-26763caab7ae",
   "metadata": {},
   "outputs": [],
   "source": [
    "is_NaN = df_fews.isnull()\n",
    "row_has_NaN = is_NaN.any(axis=1)\n",
    "rows_with_NaN = df_fews[row_has_NaN]\n",
    "print(rows_with_NaN)"
   ]
  },
  {
   "cell_type": "code",
   "execution_count": null,
   "id": "94c9f1fe-0a1b-4299-9d00-50c3ea7a0a38",
   "metadata": {},
   "outputs": [],
   "source": [
    "## Timing how long it took our script to retrieve the information\n",
    "end = time.time()\n",
    "print(end - start)"
   ]
  },
  {
   "cell_type": "code",
   "execution_count": null,
   "id": "1c7cfedf-56b3-4e67-8171-5ace541e2d94",
   "metadata": {
    "tags": []
   },
   "outputs": [],
   "source": [
    "df_fews"
   ]
  },
  {
   "cell_type": "markdown",
   "id": "d211a19d",
   "metadata": {},
   "source": [
    "## Retrieving data from NOAA [NDVI]"
   ]
  },
  {
   "cell_type": "code",
   "execution_count": null,
   "id": "ed2910e2",
   "metadata": {
    "tags": []
   },
   "outputs": [],
   "source": [
    "start = time.time()"
   ]
  },
  {
   "cell_type": "code",
   "execution_count": null,
   "id": "936933ab",
   "metadata": {
    "tags": []
   },
   "outputs": [],
   "source": [
    "NDVI = ee.ImageCollection(\"NOAA/CDR/AVHRR/NDVI/V5\").filterDate(date_start,date_end)"
   ]
  },
  {
   "cell_type": "code",
   "execution_count": null,
   "id": "8676b95c",
   "metadata": {
    "tags": []
   },
   "outputs": [],
   "source": [
    "bands_NDVI = ['NDVI']"
   ]
  },
  {
   "cell_type": "code",
   "execution_count": null,
   "id": "d9c882c6",
   "metadata": {
    "tags": []
   },
   "outputs": [],
   "source": [
    "#Creating a reduced image that contains the mean by loading in into the function \n",
    "results = []\n",
    "\n",
    "for band_name in bands_NDVI:\n",
    "    poi_reduced_imgs = NDVI.map(lambda x: poi_mean(x, band_name))\n",
    "    results.append(poi_reduced_imgs)"
   ]
  },
  {
   "cell_type": "code",
   "execution_count": null,
   "id": "cdb81ce7",
   "metadata": {},
   "outputs": [],
   "source": [
    "parsed_dfs = []\n",
    "\n",
    "for result in results:\n",
    "    nested_list = result.reduceColumns(ee.Reducer.toList(2), ['date','mean']).values().get(0)\n",
    "    df = pd.DataFrame(nested_list.getInfo(), columns=['date','mean'])\n",
    "    parsed_dfs.append(df)"
   ]
  },
  {
   "cell_type": "code",
   "execution_count": null,
   "id": "a28ac8c4",
   "metadata": {},
   "outputs": [],
   "source": [
    "%%capture out\n",
    "df_ndvi = pd.concat(parsed_dfs,axis=1)\n",
    "df_ndvi['date'] = pd.to_datetime(df_ndvi['date'])\n",
    "df_ndvi = df_ndvi.resample('M', on='date').mean() "
   ]
  },
  {
   "cell_type": "code",
   "execution_count": null,
   "id": "f5fb173f",
   "metadata": {},
   "outputs": [],
   "source": [
    "is_NaN = df_ndvi.isnull()\n",
    "row_has_NaN = is_NaN.any(axis=1)\n",
    "rows_with_NaN = df_ndvi[row_has_NaN]\n",
    "print(rows_with_NaN)"
   ]
  },
  {
   "cell_type": "code",
   "execution_count": null,
   "id": "63530a5d",
   "metadata": {},
   "outputs": [],
   "source": [
    "df_ndvi.reset_index(inplace=True)"
   ]
  },
  {
   "cell_type": "code",
   "execution_count": null,
   "id": "62c1c141",
   "metadata": {},
   "outputs": [],
   "source": [
    "df_ndvi['month_name'] = df_ndvi['date'].dt.strftime('%b')\n",
    "df_ndvi_monthly = df_ndvi.groupby('month_name').mean()\n",
    "df_ndvi_monthly.reset_index(inplace=True)"
   ]
  },
  {
   "cell_type": "code",
   "execution_count": null,
   "id": "a04d0f25",
   "metadata": {},
   "outputs": [],
   "source": [
    "index_count = 0\n",
    "for value in df_ndvi['mean']:\n",
    "    if pd.isna(value) == True:\n",
    "        nan_month = df_ndvi['month_name'][index_count]\n",
    "        z = 0\n",
    "        for month_name in df_ndvi_monthly['month_name']:\n",
    "            if month_name == nan_month:\n",
    "                df_ndvi['mean'][index_count] = df_ndvi_monthly['mean'][z]\n",
    "                z = z + 1\n",
    "                index_count = index_count + 1 \n",
    "            else:\n",
    "                z = z + 1 \n",
    "    else:\n",
    "        index_count = index_count + 1"
   ]
  },
  {
   "cell_type": "code",
   "execution_count": null,
   "id": "aeb9329c",
   "metadata": {},
   "outputs": [],
   "source": [
    "df_ndvi.drop(['month_name'], axis=1,inplace=True)"
   ]
  },
  {
   "cell_type": "code",
   "execution_count": null,
   "id": "cf34355d",
   "metadata": {},
   "outputs": [],
   "source": [
    "df_ndvi.rename(columns={\"mean\": \"ndvi\"},inplace=True)\n",
    "df_ndvi.set_index('date',inplace=True)"
   ]
  },
  {
   "cell_type": "code",
   "execution_count": null,
   "id": "e66afaf8-f4a0-427f-8f44-0dd55985a559",
   "metadata": {},
   "outputs": [],
   "source": [
    "is_NaN = df_ndvi.isnull()\n",
    "row_has_NaN = is_NaN.any(axis=1)\n",
    "rows_with_NaN = df_ndvi[row_has_NaN]\n",
    "print(rows_with_NaN)"
   ]
  },
  {
   "cell_type": "code",
   "execution_count": null,
   "id": "1f4b5697-acd6-4d33-8f0b-8c6f751797cd",
   "metadata": {},
   "outputs": [],
   "source": [
    "end = time.time()\n",
    "print(end - start)"
   ]
  },
  {
   "cell_type": "code",
   "execution_count": null,
   "id": "7e8fc236-00d8-473d-ae40-a2c836a9371a",
   "metadata": {},
   "outputs": [],
   "source": [
    "df_ndvi.info()"
   ]
  },
  {
   "cell_type": "markdown",
   "id": "c7dcc5f5-7b85-40c7-a1b3-15d349817ce7",
   "metadata": {},
   "source": [
    "## Merging all the data to one dataset"
   ]
  },
  {
   "cell_type": "code",
   "execution_count": null,
   "id": "f548267c-8caf-425a-914d-b19fffa99f39",
   "metadata": {},
   "outputs": [],
   "source": [
    "df = pd.concat([df_fews, df_ndvi], axis=1)"
   ]
  },
  {
   "cell_type": "code",
   "execution_count": null,
   "id": "29758ac7-6cfc-4ad1-84f6-bb13b8a15c33",
   "metadata": {},
   "outputs": [],
   "source": [
    "df"
   ]
  },
  {
   "cell_type": "markdown",
   "id": "872edfb5",
   "metadata": {},
   "source": [
    "## Setting all the data in the right units "
   ]
  },
  {
   "cell_type": "code",
   "execution_count": null,
   "id": "62c7328a",
   "metadata": {},
   "outputs": [],
   "source": [
    "# Converting precipitation and evaporation from kg m1's to mm/day\n",
    "df['Evap_tavg'] = df['Evap_tavg'] * 3600 * 24 * 30\n",
    "df['Rainf_f_tavg'] = df['Rainf_f_tavg'] * 3600 * 24 * 30\n",
    "\n",
    "#Soil temp from kelvin to Celsius\n",
    "df['SoilTemp00_10cm_tavg'] = df['SoilTemp00_10cm_tavg'] - 273.15\n",
    "df['SoilTemp100_200cm_tavg'] = df['SoilTemp100_200cm_tavg'] - 273.15\n",
    "df['Tair_f_tavg'] = df['Tair_f_tavg'] - 273.15\n",
    "\n",
    "#NDVI converting by its scale, which is [0.0001]\n",
    "df['ndvi'] = df['ndvi'] * 0.0001"
   ]
  },
  {
   "cell_type": "code",
   "execution_count": null,
   "id": "7c4bb5f8",
   "metadata": {},
   "outputs": [],
   "source": [
    "df.isnull().values.any()"
   ]
  },
  {
   "cell_type": "code",
   "execution_count": null,
   "id": "7249d2c6",
   "metadata": {},
   "outputs": [],
   "source": [
    "df.isnull().sum().sum()"
   ]
  },
  {
   "cell_type": "code",
   "execution_count": null,
   "id": "9ad05104",
   "metadata": {},
   "outputs": [],
   "source": [
    "df"
   ]
  }
 ],
 "metadata": {
  "kernelspec": {
   "display_name": "Python 3 (ipykernel)",
   "language": "python",
   "name": "python3"
  },
  "language_info": {
   "codemirror_mode": {
    "name": "ipython",
    "version": 3
   },
   "file_extension": ".py",
   "mimetype": "text/x-python",
   "name": "python",
   "nbconvert_exporter": "python",
   "pygments_lexer": "ipython3",
   "version": "3.10.8"
  }
 },
 "nbformat": 4,
 "nbformat_minor": 5
}
